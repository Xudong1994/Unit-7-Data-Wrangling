{
 "cells": [
  {
   "cell_type": "markdown",
   "metadata": {},
   "source": [
    "This exercise will require you to pull some data from the Qunadl API. Qaundl is currently the most widely used aggregator of financial market data."
   ]
  },
  {
   "cell_type": "markdown",
   "metadata": {},
   "source": [
    "As a first step, you will need to register a free account on the https://data.nasdaq.com website."
   ]
  },
  {
   "cell_type": "markdown",
   "metadata": {},
   "source": [
    "After you register, you will be provided with a unique API key, that you should store:"
   ]
  },
  {
   "cell_type": "code",
   "execution_count": 1,
   "metadata": {
    "jupyter": {
     "outputs_hidden": true
    }
   },
   "outputs": [],
   "source": [
    "# Store the API key as a string - according to PEP8, constants are always named in all upper case\n",
    "API_KEY = 'XR9szzs-zN8d6fuhdbcb'"
   ]
  },
  {
   "cell_type": "markdown",
   "metadata": {},
   "source": [
    "Qaundl has a large number of data sources, but, unfortunately, most of them require a Premium subscription. Still, there are also a good number of free datasets."
   ]
  },
  {
   "cell_type": "markdown",
   "metadata": {},
   "source": [
    "For this mini project, we will focus on equities data from the Frankfurt Stock Exhange (FSE), which is available for free. We'll try and analyze the stock prices of a company called Carl Zeiss Meditec, which manufactures tools for eye examinations, as well as medical lasers for laser eye surgery: https://www.zeiss.com/meditec/int/home.html. The company is listed under the stock ticker AFX_X."
   ]
  },
  {
   "cell_type": "markdown",
   "metadata": {},
   "source": [
    "You can find the detailed Quandl API instructions here: https://docs.quandl.com/docs/time-series"
   ]
  },
  {
   "cell_type": "markdown",
   "metadata": {},
   "source": [
    "While there is a dedicated Python package for connecting to the Quandl API, we would prefer that you use the *requests* package, which can be easily downloaded using *pip* or *conda*. You can find the documentation for the package here: http://docs.python-requests.org/en/master/ "
   ]
  },
  {
   "cell_type": "markdown",
   "metadata": {},
   "source": [
    "Finally, apart from the *requests* package, you are encouraged to not use any third party Python packages, such as *pandas*, and instead focus on what's available in the Python Standard Library (the *collections* module might come in handy: https://pymotw.com/3/collections/ ).\n",
    "Also, since you won't have access to DataFrames, you are encouraged to us Python's native data structures - preferably dictionaries, though some questions can also be answered using lists.\n",
    "You can read more on these data structures here: https://docs.python.org/3/tutorial/datastructures.html"
   ]
  },
  {
   "cell_type": "markdown",
   "metadata": {},
   "source": [
    "Keep in mind that the JSON responses you will be getting from the API map almost one-to-one to Python's dictionaries. Unfortunately, they can be very nested, so make sure you read up on indexing dictionaries in the documentation provided above."
   ]
  },
  {
   "cell_type": "code",
   "execution_count": 2,
   "metadata": {
    "jupyter": {
     "outputs_hidden": true
    },
    "scrolled": true
   },
   "outputs": [],
   "source": [
    "# First, import the relevant modules\n",
    "\n",
    "import requests\n",
    "import json\n",
    "\n"
   ]
  },
  {
   "cell_type": "markdown",
   "metadata": {},
   "source": [
    "Note: API's can change a bit with each version, for this exercise it is reccomended to use the \"V3\" quandl api at `https://www.quandl.com/api/v3/`"
   ]
  },
  {
   "cell_type": "code",
   "execution_count": 3,
   "metadata": {
    "jupyter": {
     "outputs_hidden": true
    }
   },
   "outputs": [],
   "source": [
    "# Now, call the Quandl API and pull out a small sample of the data (only one day) to get a glimpse\n",
    "# into the JSON structure that will be returned\n",
    "url = \"https://data.nasdaq.com/api/v3/datasets/WIKI/FB/data.json?api_key=XR9szzs-zN8d6fuhdbcb\"\n",
    "\n",
    "r = requests.get(url)\n",
    "\n",
    "json_data = r.json()"
   ]
  },
  {
   "cell_type": "code",
   "execution_count": 4,
   "metadata": {
    "jupyter": {
     "outputs_hidden": true
    }
   },
   "outputs": [
    {
     "name": "stdout",
     "output_type": "stream",
     "text": [
      "['Date', 'Open', 'High', 'Low', 'Close', 'Volume', 'Ex-Dividend', 'Split Ratio', 'Adj. Open', 'Adj. High', 'Adj. Low', 'Adj. Close', 'Adj. Volume']\n",
      "18.08\n",
      "192.04\n"
     ]
    }
   ],
   "source": [
    "# Inspect the JSON structure of the object you created, and take note of how nested it is,\n",
    "# as well as the overall structure\n",
    "data_column_name = json_data[\"dataset_data\"][\"column_names\"]\n",
    "print(data_column_name)\n",
    "data_extract = json_data[\"dataset_data\"][\"data\"]\n",
    "data_extract\n",
    "\n",
    "open_list = []\n",
    "for key in data_extract:\n",
    "    open_list.append(key[1])\n",
    "\n",
    "print(min(open_list))\n",
    "print(max(open_list))"
   ]
  },
  {
   "cell_type": "markdown",
   "metadata": {},
   "source": [
    "These are your tasks for this mini project:\n",
    "\n",
    "1. Collect data from the Franfurt Stock Exchange, for the ticker AFX_X, for the whole year 2017 (keep in mind that the date format is YYYY-MM-DD).\n",
    "2. Convert the returned JSON object into a Python dictionary.\n",
    "3. Calculate what the highest and lowest opening prices were for the stock in this period.\n",
    "4. What was the largest change in any one day (based on High and Low price)?\n",
    "5. What was the largest change between any two days (based on Closing Price)?\n",
    "6. What was the average daily trading volume during this year?\n",
    "7. (Optional) What was the median trading volume during this year. (Note: you may need to implement your own function for calculating the median.)"
   ]
  },
  {
   "cell_type": "code",
   "execution_count": 11,
   "metadata": {
    "jupyter": {
     "outputs_hidden": true
    }
   },
   "outputs": [
    {
     "name": "stdout",
     "output_type": "stream",
     "text": [
      "308\n",
      "59\n",
      "In 2017 the highest price was 183.51 and lowest price was 116.03\n",
      "In 2017 the largest change in on 2017-06-09, the change is 8.97999999999999\n",
      "The largest change between any two days is 7.67\n",
      "The largest change between two days is on the 2017-11-27 and 2017-01-03, the price is 183.03, and 116.86.\n",
      "The change is 66.17\n",
      "The average daily trading volume during 2017 is 16468073.856\n",
      "The median of trading volume during 2017 is 14548954.0\n"
     ]
    }
   ],
   "source": [
    "#Collect data from the Franfurt Stock Exchange, for the ticker AFX_X, for the whole year 2017 \n",
    "index_year = json_data[\"dataset_data\"][\"column_names\"].index(\"Date\")\n",
    "year = [day[index_year] for day in json_data[\"dataset_data\"][\"data\"] if day[index_year]]\n",
    "print(year.index(\"2017-01-03\")) # 308\n",
    "print(year.index(\"2017-12-29\")) # 59\n",
    "year_indice = []\n",
    "for i in range(59, 309):\n",
    "    year_indice.append(i)\n",
    "\n",
    "data_2017 = [json_data[\"dataset_data\"][\"data\"][i] for i in year_indice]\n",
    "\n",
    "# Calculate what the highest and lowest opening prices were for the stock in this period.\n",
    "\n",
    "index_open = json_data[\"dataset_data\"][\"column_names\"].index(\"Open\")\n",
    "open_price = [day[index_open] for day in data_2017 if day[index_open]]\n",
    "# Print the max and min of the opening prices\n",
    "print(f\"In 2017 the highest price was {max(open_price)} and lowest price was {min(open_price)}\")\n",
    "\n",
    "\n",
    "# What was the largest change in any one day (based on High and Low price)?\n",
    "index_high = json_data[\"dataset_data\"][\"column_names\"].index(\"High\")\n",
    "index_low = json_data[\"dataset_data\"][\"column_names\"].index(\"Low\")\n",
    "largest_change = [day[index_high] - day[index_low] for day in data_2017]\n",
    "\n",
    "# index of the date\n",
    "largest_day_index = largest_change.index(max(largest_change))\n",
    "index_date = json_data[\"dataset_data\"][\"column_names\"].index(\"Date\")\n",
    "Date_list = [day[index_date] for day in data_2017 if day[index_date]]\n",
    "largest_day = Date_list[largest_day_index]\n",
    "\n",
    "# Print What was the largest change in any one day (based on High and Low price)\n",
    "print(\"In 2017 the largest change in on {0}, the change is {1}\".format(largest_day, max(largest_change)))\n",
    "\n",
    "#What was the largest change between any two days (based on Closing Price)?\n",
    "index_close = json_data[\"dataset_data\"][\"column_names\"].index(\"Close\")\n",
    "close_price = [day[index_close] for day in data_2017 if day[index_close]]\n",
    "\n",
    "two_day_change = [abs(prev - index) for prev, index in zip(close_price, close_price[1:])]\n",
    "print('The largest change between any two days is {:.2f}'.format(max(two_day_change)))\n",
    "\n",
    "#What was the average daily trading volume during this year?\n",
    "index_volume = json_data[\"dataset_data\"][\"column_names\"].index(\"Volume\")\n",
    "volume = [day[index_volume] for day in data_2017 if day[index_volume]]\n",
    "average_volume = sum(volume) / len(data_2017)\n",
    "print(\"The average daily trading volume during 2017 is {0}\".format(average_volume))\n",
    "\n",
    "# median\n",
    "def get_median(data):\n",
    "    data = sorted(data)\n",
    "    size = len(data)\n",
    "    if size % 2 == 0:\n",
    "        median_1 = data[size//2]\n",
    "        median_2 = data[size//2 -1]\n",
    "        median = (median_1 + median_2) / 2\n",
    "    else:  \n",
    "        median = data[size//2]\n",
    "    print(f\"The median of trading volume during 2017 is {median}\")\n",
    "get_median(volume)\n"
   ]
  },
  {
   "cell_type": "code",
   "execution_count": null,
   "metadata": {},
   "outputs": [],
   "source": []
  }
 ],
 "metadata": {
  "kernelspec": {
   "display_name": "Python 3",
   "language": "python",
   "name": "python3"
  },
  "language_info": {
   "codemirror_mode": {
    "name": "ipython",
    "version": 3
   },
   "file_extension": ".py",
   "mimetype": "text/x-python",
   "name": "python",
   "nbconvert_exporter": "python",
   "pygments_lexer": "ipython3",
   "version": "3.8.8"
  }
 },
 "nbformat": 4,
 "nbformat_minor": 4
}
